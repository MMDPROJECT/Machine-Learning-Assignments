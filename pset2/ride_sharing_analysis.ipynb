{
  "cells": [
    {
      "cell_type": "markdown",
      "metadata": {
        "id": "rXtbLEyvjdRf"
      },
      "source": [
        "# Machine Learning - Assignment 2 - Ride Sharing Analysis"
      ]
    },
    {
      "cell_type": "markdown",
      "metadata": {
        "id": "i6TDx4jbj48u"
      },
      "source": [
        "# Mohammad Hossein Basouli - 401222020"
      ]
    },
    {
      "cell_type": "markdown",
      "metadata": {
        "id": "dshalgG6kAgj"
      },
      "source": [
        "---"
      ]
    },
    {
      "cell_type": "markdown",
      "metadata": {
        "id": "4DQEdYgzl4bT"
      },
      "source": [
        "# Library Imports\n",
        "\n",
        "\n",
        "---\n",
        "\n"
      ]
    },
    {
      "cell_type": "code",
      "execution_count": 80,
      "metadata": {
        "id": "IEHF4t6Bl9SZ"
      },
      "outputs": [],
      "source": [
        "import scipy.stats as stats\n",
        "import numpy as np\n",
        "import pandas as pd\n",
        "import matplotlib.pylab as plt\n",
        "plt.style.use('ggplot')\n",
        "import seaborn as sns\n",
        "import math\n",
        "from sklearn.model_selection import train_test_split\n",
        "from sklearn.preprocessing import StandardScaler, PolynomialFeatures\n",
        "from sklearn.linear_model import LinearRegression\n",
        "from sklearn.metrics import mean_squared_error, mean_absolute_error, r2_score\n",
        "from sklearn.pipeline import Pipeline\n",
        "from sklearn.metrics import mean_squared_error, mean_absolute_error, r2_score\n",
        "from sklearn.linear_model import RidgeCV, LassoCV"
      ]
    },
    {
      "cell_type": "markdown",
      "metadata": {
        "id": "I7QqYVFIkaZX"
      },
      "source": [
        "# Dataset Orientation\n",
        "\n",
        "\n",
        "---\n",
        "\n"
      ]
    },
    {
      "cell_type": "code",
      "execution_count": 81,
      "metadata": {
        "id": "Z01LUOxdjYBO"
      },
      "outputs": [],
      "source": [
        "# df = pd.read_csv('../kaggle/input/uber-and-lyft-dataset-boston-ma/rideshare_kaggle.csv')\n",
        "df = pd.read_csv('./rideshare_kaggle.csv')"
      ]
    },
    {
      "cell_type": "code",
      "execution_count": 82,
      "metadata": {
        "colab": {
          "base_uri": "https://localhost:8080/",
          "height": 516
        },
        "id": "86xLyPXp_J4m",
        "outputId": "ab3dfc19-4d2f-4344-ff44-9da0bc6848f0"
      },
      "outputs": [
        {
          "data": {
            "text/html": [
              "<div>\n",
              "<style scoped>\n",
              "    .dataframe tbody tr th:only-of-type {\n",
              "        vertical-align: middle;\n",
              "    }\n",
              "\n",
              "    .dataframe tbody tr th {\n",
              "        vertical-align: top;\n",
              "    }\n",
              "\n",
              "    .dataframe thead th {\n",
              "        text-align: right;\n",
              "    }\n",
              "</style>\n",
              "<table border=\"1\" class=\"dataframe\">\n",
              "  <thead>\n",
              "    <tr style=\"text-align: right;\">\n",
              "      <th></th>\n",
              "      <th>id</th>\n",
              "      <th>timestamp</th>\n",
              "      <th>hour</th>\n",
              "      <th>day</th>\n",
              "      <th>month</th>\n",
              "      <th>datetime</th>\n",
              "      <th>timezone</th>\n",
              "      <th>source</th>\n",
              "      <th>destination</th>\n",
              "      <th>cab_type</th>\n",
              "      <th>...</th>\n",
              "      <th>precipIntensityMax</th>\n",
              "      <th>uvIndexTime</th>\n",
              "      <th>temperatureMin</th>\n",
              "      <th>temperatureMinTime</th>\n",
              "      <th>temperatureMax</th>\n",
              "      <th>temperatureMaxTime</th>\n",
              "      <th>apparentTemperatureMin</th>\n",
              "      <th>apparentTemperatureMinTime</th>\n",
              "      <th>apparentTemperatureMax</th>\n",
              "      <th>apparentTemperatureMaxTime</th>\n",
              "    </tr>\n",
              "  </thead>\n",
              "  <tbody>\n",
              "    <tr>\n",
              "      <th>0</th>\n",
              "      <td>424553bb-7174-41ea-aeb4-fe06d4f4b9d7</td>\n",
              "      <td>1.544953e+09</td>\n",
              "      <td>9</td>\n",
              "      <td>16</td>\n",
              "      <td>12</td>\n",
              "      <td>2018-12-16 09:30:07</td>\n",
              "      <td>America/New_York</td>\n",
              "      <td>Haymarket Square</td>\n",
              "      <td>North Station</td>\n",
              "      <td>Lyft</td>\n",
              "      <td>...</td>\n",
              "      <td>0.1276</td>\n",
              "      <td>1544979600</td>\n",
              "      <td>39.89</td>\n",
              "      <td>1545012000</td>\n",
              "      <td>43.68</td>\n",
              "      <td>1544968800</td>\n",
              "      <td>33.73</td>\n",
              "      <td>1545012000</td>\n",
              "      <td>38.07</td>\n",
              "      <td>1544958000</td>\n",
              "    </tr>\n",
              "    <tr>\n",
              "      <th>1</th>\n",
              "      <td>4bd23055-6827-41c6-b23b-3c491f24e74d</td>\n",
              "      <td>1.543284e+09</td>\n",
              "      <td>2</td>\n",
              "      <td>27</td>\n",
              "      <td>11</td>\n",
              "      <td>2018-11-27 02:00:23</td>\n",
              "      <td>America/New_York</td>\n",
              "      <td>Haymarket Square</td>\n",
              "      <td>North Station</td>\n",
              "      <td>Lyft</td>\n",
              "      <td>...</td>\n",
              "      <td>0.1300</td>\n",
              "      <td>1543251600</td>\n",
              "      <td>40.49</td>\n",
              "      <td>1543233600</td>\n",
              "      <td>47.30</td>\n",
              "      <td>1543251600</td>\n",
              "      <td>36.20</td>\n",
              "      <td>1543291200</td>\n",
              "      <td>43.92</td>\n",
              "      <td>1543251600</td>\n",
              "    </tr>\n",
              "    <tr>\n",
              "      <th>2</th>\n",
              "      <td>981a3613-77af-4620-a42a-0c0866077d1e</td>\n",
              "      <td>1.543367e+09</td>\n",
              "      <td>1</td>\n",
              "      <td>28</td>\n",
              "      <td>11</td>\n",
              "      <td>2018-11-28 01:00:22</td>\n",
              "      <td>America/New_York</td>\n",
              "      <td>Haymarket Square</td>\n",
              "      <td>North Station</td>\n",
              "      <td>Lyft</td>\n",
              "      <td>...</td>\n",
              "      <td>0.1064</td>\n",
              "      <td>1543338000</td>\n",
              "      <td>35.36</td>\n",
              "      <td>1543377600</td>\n",
              "      <td>47.55</td>\n",
              "      <td>1543320000</td>\n",
              "      <td>31.04</td>\n",
              "      <td>1543377600</td>\n",
              "      <td>44.12</td>\n",
              "      <td>1543320000</td>\n",
              "    </tr>\n",
              "    <tr>\n",
              "      <th>3</th>\n",
              "      <td>c2d88af2-d278-4bfd-a8d0-29ca77cc5512</td>\n",
              "      <td>1.543554e+09</td>\n",
              "      <td>4</td>\n",
              "      <td>30</td>\n",
              "      <td>11</td>\n",
              "      <td>2018-11-30 04:53:02</td>\n",
              "      <td>America/New_York</td>\n",
              "      <td>Haymarket Square</td>\n",
              "      <td>North Station</td>\n",
              "      <td>Lyft</td>\n",
              "      <td>...</td>\n",
              "      <td>0.0000</td>\n",
              "      <td>1543507200</td>\n",
              "      <td>34.67</td>\n",
              "      <td>1543550400</td>\n",
              "      <td>45.03</td>\n",
              "      <td>1543510800</td>\n",
              "      <td>30.30</td>\n",
              "      <td>1543550400</td>\n",
              "      <td>38.53</td>\n",
              "      <td>1543510800</td>\n",
              "    </tr>\n",
              "    <tr>\n",
              "      <th>4</th>\n",
              "      <td>e0126e1f-8ca9-4f2e-82b3-50505a09db9a</td>\n",
              "      <td>1.543463e+09</td>\n",
              "      <td>3</td>\n",
              "      <td>29</td>\n",
              "      <td>11</td>\n",
              "      <td>2018-11-29 03:49:20</td>\n",
              "      <td>America/New_York</td>\n",
              "      <td>Haymarket Square</td>\n",
              "      <td>North Station</td>\n",
              "      <td>Lyft</td>\n",
              "      <td>...</td>\n",
              "      <td>0.0001</td>\n",
              "      <td>1543420800</td>\n",
              "      <td>33.10</td>\n",
              "      <td>1543402800</td>\n",
              "      <td>42.18</td>\n",
              "      <td>1543420800</td>\n",
              "      <td>29.11</td>\n",
              "      <td>1543392000</td>\n",
              "      <td>35.75</td>\n",
              "      <td>1543420800</td>\n",
              "    </tr>\n",
              "  </tbody>\n",
              "</table>\n",
              "<p>5 rows × 57 columns</p>\n",
              "</div>"
            ],
            "text/plain": [
              "                                     id     timestamp  hour  day  month  \\\n",
              "0  424553bb-7174-41ea-aeb4-fe06d4f4b9d7  1.544953e+09     9   16     12   \n",
              "1  4bd23055-6827-41c6-b23b-3c491f24e74d  1.543284e+09     2   27     11   \n",
              "2  981a3613-77af-4620-a42a-0c0866077d1e  1.543367e+09     1   28     11   \n",
              "3  c2d88af2-d278-4bfd-a8d0-29ca77cc5512  1.543554e+09     4   30     11   \n",
              "4  e0126e1f-8ca9-4f2e-82b3-50505a09db9a  1.543463e+09     3   29     11   \n",
              "\n",
              "              datetime          timezone            source    destination  \\\n",
              "0  2018-12-16 09:30:07  America/New_York  Haymarket Square  North Station   \n",
              "1  2018-11-27 02:00:23  America/New_York  Haymarket Square  North Station   \n",
              "2  2018-11-28 01:00:22  America/New_York  Haymarket Square  North Station   \n",
              "3  2018-11-30 04:53:02  America/New_York  Haymarket Square  North Station   \n",
              "4  2018-11-29 03:49:20  America/New_York  Haymarket Square  North Station   \n",
              "\n",
              "  cab_type  ... precipIntensityMax uvIndexTime  temperatureMin  \\\n",
              "0     Lyft  ...             0.1276  1544979600           39.89   \n",
              "1     Lyft  ...             0.1300  1543251600           40.49   \n",
              "2     Lyft  ...             0.1064  1543338000           35.36   \n",
              "3     Lyft  ...             0.0000  1543507200           34.67   \n",
              "4     Lyft  ...             0.0001  1543420800           33.10   \n",
              "\n",
              "   temperatureMinTime  temperatureMax  temperatureMaxTime  \\\n",
              "0          1545012000           43.68          1544968800   \n",
              "1          1543233600           47.30          1543251600   \n",
              "2          1543377600           47.55          1543320000   \n",
              "3          1543550400           45.03          1543510800   \n",
              "4          1543402800           42.18          1543420800   \n",
              "\n",
              "   apparentTemperatureMin  apparentTemperatureMinTime  apparentTemperatureMax  \\\n",
              "0                   33.73                  1545012000                   38.07   \n",
              "1                   36.20                  1543291200                   43.92   \n",
              "2                   31.04                  1543377600                   44.12   \n",
              "3                   30.30                  1543550400                   38.53   \n",
              "4                   29.11                  1543392000                   35.75   \n",
              "\n",
              "  apparentTemperatureMaxTime  \n",
              "0                 1544958000  \n",
              "1                 1543251600  \n",
              "2                 1543320000  \n",
              "3                 1543510800  \n",
              "4                 1543420800  \n",
              "\n",
              "[5 rows x 57 columns]"
            ]
          },
          "execution_count": 82,
          "metadata": {},
          "output_type": "execute_result"
        }
      ],
      "source": [
        "df.head()"
      ]
    },
    {
      "cell_type": "code",
      "execution_count": 83,
      "metadata": {
        "colab": {
          "base_uri": "https://localhost:8080/"
        },
        "id": "Y8XIGoxu_LZT",
        "outputId": "d09caa94-e106-4920-a21c-cf6141cf28f9"
      },
      "outputs": [
        {
          "name": "stdout",
          "output_type": "stream",
          "text": [
            "<class 'pandas.core.frame.DataFrame'>\n",
            "RangeIndex: 693071 entries, 0 to 693070\n",
            "Data columns (total 57 columns):\n",
            " #   Column                       Non-Null Count   Dtype  \n",
            "---  ------                       --------------   -----  \n",
            " 0   id                           693071 non-null  object \n",
            " 1   timestamp                    693071 non-null  float64\n",
            " 2   hour                         693071 non-null  int64  \n",
            " 3   day                          693071 non-null  int64  \n",
            " 4   month                        693071 non-null  int64  \n",
            " 5   datetime                     693071 non-null  object \n",
            " 6   timezone                     693071 non-null  object \n",
            " 7   source                       693071 non-null  object \n",
            " 8   destination                  693071 non-null  object \n",
            " 9   cab_type                     693071 non-null  object \n",
            " 10  product_id                   693071 non-null  object \n",
            " 11  name                         693071 non-null  object \n",
            " 12  price                        637976 non-null  float64\n",
            " 13  distance                     693071 non-null  float64\n",
            " 14  surge_multiplier             693071 non-null  float64\n",
            " 15  latitude                     693071 non-null  float64\n",
            " 16  longitude                    693071 non-null  float64\n",
            " 17  temperature                  693071 non-null  float64\n",
            " 18  apparentTemperature          693071 non-null  float64\n",
            " 19  short_summary                693071 non-null  object \n",
            " 20  long_summary                 693071 non-null  object \n",
            " 21  precipIntensity              693071 non-null  float64\n",
            " 22  precipProbability            693071 non-null  float64\n",
            " 23  humidity                     693071 non-null  float64\n",
            " 24  windSpeed                    693071 non-null  float64\n",
            " 25  windGust                     693071 non-null  float64\n",
            " 26  windGustTime                 693071 non-null  int64  \n",
            " 27  visibility                   693071 non-null  float64\n",
            " 28  temperatureHigh              693071 non-null  float64\n",
            " 29  temperatureHighTime          693071 non-null  int64  \n",
            " 30  temperatureLow               693071 non-null  float64\n",
            " 31  temperatureLowTime           693071 non-null  int64  \n",
            " 32  apparentTemperatureHigh      693071 non-null  float64\n",
            " 33  apparentTemperatureHighTime  693071 non-null  int64  \n",
            " 34  apparentTemperatureLow       693071 non-null  float64\n",
            " 35  apparentTemperatureLowTime   693071 non-null  int64  \n",
            " 36  icon                         693071 non-null  object \n",
            " 37  dewPoint                     693071 non-null  float64\n",
            " 38  pressure                     693071 non-null  float64\n",
            " 39  windBearing                  693071 non-null  int64  \n",
            " 40  cloudCover                   693071 non-null  float64\n",
            " 41  uvIndex                      693071 non-null  int64  \n",
            " 42  visibility.1                 693071 non-null  float64\n",
            " 43  ozone                        693071 non-null  float64\n",
            " 44  sunriseTime                  693071 non-null  int64  \n",
            " 45  sunsetTime                   693071 non-null  int64  \n",
            " 46  moonPhase                    693071 non-null  float64\n",
            " 47  precipIntensityMax           693071 non-null  float64\n",
            " 48  uvIndexTime                  693071 non-null  int64  \n",
            " 49  temperatureMin               693071 non-null  float64\n",
            " 50  temperatureMinTime           693071 non-null  int64  \n",
            " 51  temperatureMax               693071 non-null  float64\n",
            " 52  temperatureMaxTime           693071 non-null  int64  \n",
            " 53  apparentTemperatureMin       693071 non-null  float64\n",
            " 54  apparentTemperatureMinTime   693071 non-null  int64  \n",
            " 55  apparentTemperatureMax       693071 non-null  float64\n",
            " 56  apparentTemperatureMaxTime   693071 non-null  int64  \n",
            "dtypes: float64(29), int64(17), object(11)\n",
            "memory usage: 301.4+ MB\n"
          ]
        }
      ],
      "source": [
        "df.info()"
      ]
    },
    {
      "cell_type": "markdown",
      "metadata": {
        "id": "kcVRzAxZ_V3T"
      },
      "source": [
        "# Initial Data Preprocessing\n",
        "---"
      ]
    },
    {
      "cell_type": "markdown",
      "metadata": {
        "id": "Q0tWqj5GAPLc"
      },
      "source": [
        "## Data Reduction"
      ]
    },
    {
      "cell_type": "markdown",
      "metadata": {
        "id": "FSDQadszAZob"
      },
      "source": [
        "Removing irrelavant features\n"
      ]
    },
    {
      "cell_type": "code",
      "execution_count": 84,
      "metadata": {
        "id": "WW5CAtIaAdxN"
      },
      "outputs": [],
      "source": [
        "df = df.drop(columns=['id', 'timestamp', 'timezone', 'datetime', 'visibility.1',\n",
        "        'temperatureMinTime', 'temperatureMax', 'temperatureMaxTime',\n",
        "        'apparentTemperatureMin', 'apparentTemperatureMinTime',\n",
        "        'apparentTemperatureMax', 'apparentTemperatureMaxTime'])"
      ]
    },
    {
      "cell_type": "markdown",
      "metadata": {
        "id": "mrAZCC3vKHDj"
      },
      "source": [
        "Columns after the drop"
      ]
    },
    {
      "cell_type": "code",
      "execution_count": 85,
      "metadata": {
        "colab": {
          "base_uri": "https://localhost:8080/"
        },
        "id": "lVtCbRy4JoS1",
        "outputId": "ca5bb399-d20a-4820-a4e7-0a2db9f7283a"
      },
      "outputs": [
        {
          "name": "stdout",
          "output_type": "stream",
          "text": [
            "<class 'pandas.core.frame.DataFrame'>\n",
            "RangeIndex: 693071 entries, 0 to 693070\n",
            "Data columns (total 45 columns):\n",
            " #   Column                       Non-Null Count   Dtype  \n",
            "---  ------                       --------------   -----  \n",
            " 0   hour                         693071 non-null  int64  \n",
            " 1   day                          693071 non-null  int64  \n",
            " 2   month                        693071 non-null  int64  \n",
            " 3   source                       693071 non-null  object \n",
            " 4   destination                  693071 non-null  object \n",
            " 5   cab_type                     693071 non-null  object \n",
            " 6   product_id                   693071 non-null  object \n",
            " 7   name                         693071 non-null  object \n",
            " 8   price                        637976 non-null  float64\n",
            " 9   distance                     693071 non-null  float64\n",
            " 10  surge_multiplier             693071 non-null  float64\n",
            " 11  latitude                     693071 non-null  float64\n",
            " 12  longitude                    693071 non-null  float64\n",
            " 13  temperature                  693071 non-null  float64\n",
            " 14  apparentTemperature          693071 non-null  float64\n",
            " 15  short_summary                693071 non-null  object \n",
            " 16  long_summary                 693071 non-null  object \n",
            " 17  precipIntensity              693071 non-null  float64\n",
            " 18  precipProbability            693071 non-null  float64\n",
            " 19  humidity                     693071 non-null  float64\n",
            " 20  windSpeed                    693071 non-null  float64\n",
            " 21  windGust                     693071 non-null  float64\n",
            " 22  windGustTime                 693071 non-null  int64  \n",
            " 23  visibility                   693071 non-null  float64\n",
            " 24  temperatureHigh              693071 non-null  float64\n",
            " 25  temperatureHighTime          693071 non-null  int64  \n",
            " 26  temperatureLow               693071 non-null  float64\n",
            " 27  temperatureLowTime           693071 non-null  int64  \n",
            " 28  apparentTemperatureHigh      693071 non-null  float64\n",
            " 29  apparentTemperatureHighTime  693071 non-null  int64  \n",
            " 30  apparentTemperatureLow       693071 non-null  float64\n",
            " 31  apparentTemperatureLowTime   693071 non-null  int64  \n",
            " 32  icon                         693071 non-null  object \n",
            " 33  dewPoint                     693071 non-null  float64\n",
            " 34  pressure                     693071 non-null  float64\n",
            " 35  windBearing                  693071 non-null  int64  \n",
            " 36  cloudCover                   693071 non-null  float64\n",
            " 37  uvIndex                      693071 non-null  int64  \n",
            " 38  ozone                        693071 non-null  float64\n",
            " 39  sunriseTime                  693071 non-null  int64  \n",
            " 40  sunsetTime                   693071 non-null  int64  \n",
            " 41  moonPhase                    693071 non-null  float64\n",
            " 42  precipIntensityMax           693071 non-null  float64\n",
            " 43  uvIndexTime                  693071 non-null  int64  \n",
            " 44  temperatureMin               693071 non-null  float64\n",
            "dtypes: float64(24), int64(13), object(8)\n",
            "memory usage: 237.9+ MB\n"
          ]
        }
      ],
      "source": [
        "df.info()"
      ]
    },
    {
      "cell_type": "markdown",
      "metadata": {
        "id": "YH6vJOO2_asy"
      },
      "source": [
        "## Data Transformation"
      ]
    },
    {
      "cell_type": "markdown",
      "metadata": {
        "id": "0ymY42_DAGx_"
      },
      "source": [
        "Extracting hour of **sunriseTime** and **sunsetTime**"
      ]
    },
    {
      "cell_type": "code",
      "execution_count": 86,
      "metadata": {
        "id": "2wjySSng_2f0"
      },
      "outputs": [],
      "source": [
        "df['sunriseTime'] = pd.to_datetime(df['sunriseTime'], unit='s').dt.hour\n",
        "df['sunsetTime'] = pd.to_datetime(df['sunsetTime'], unit='s').dt.hour"
      ]
    },
    {
      "cell_type": "markdown",
      "metadata": {
        "id": "HcTaeRu7ni_N"
      },
      "source": [
        "Encoding of Categorical Features via **One-Hot Encoding**"
      ]
    },
    {
      "cell_type": "code",
      "execution_count": 87,
      "metadata": {
        "colab": {
          "base_uri": "https://localhost:8080/"
        },
        "id": "ejjs5oA-KkK5",
        "outputId": "96c569a6-3bc1-4e39-f8f2-d21f0344a2a2"
      },
      "outputs": [
        {
          "data": {
            "text/plain": [
              "(693071, 108)"
            ]
          },
          "execution_count": 87,
          "metadata": {},
          "output_type": "execute_result"
        }
      ],
      "source": [
        "categorical_cols = df.select_dtypes(include=['object']).columns\n",
        "df = pd.get_dummies(df, columns=categorical_cols, drop_first=True)\n",
        "df.shape"
      ]
    },
    {
      "cell_type": "markdown",
      "metadata": {
        "id": "5gT-854WnqYL"
      },
      "source": [
        "Splitting Rows With Missing Value on **price**"
      ]
    },
    {
      "cell_type": "code",
      "execution_count": 88,
      "metadata": {
        "id": "GTllZcwJnhcD"
      },
      "outputs": [],
      "source": [
        "df_missing_price = df[df['price'].isna()]\n",
        "df.dropna(subset=['price'], inplace=True)"
      ]
    },
    {
      "cell_type": "markdown",
      "metadata": {
        "id": "yh3qKWQQ0G50"
      },
      "source": [
        "# Exploratory Data Analysis\n",
        "---"
      ]
    },
    {
      "cell_type": "markdown",
      "metadata": {
        "id": "Vk7-jmIk0Jrr"
      },
      "source": [
        "Highly Correlated Features With **price**"
      ]
    },
    {
      "cell_type": "code",
      "execution_count": 89,
      "metadata": {
        "colab": {
          "base_uri": "https://localhost:8080/",
          "height": 1000
        },
        "id": "J0L1PJmbxzjb",
        "outputId": "8cc83954-ef9f-4c51-805f-e2fce3daf689"
      },
      "outputs": [
        {
          "data": {
            "text/plain": [
              "price                                              1.000000\n",
              "distance                                           0.333871\n",
              "surge_multiplier                                   0.165611\n",
              "source_Boston University                           0.067880\n",
              "source_Fenway                                      0.057167\n",
              "source_Haymarket Square                           -0.101514\n",
              "destination_Boston University                      0.072743\n",
              "destination_Fenway                                 0.053153\n",
              "destination_Haymarket Square                      -0.075808\n",
              "destination_South Station                         -0.055659\n",
              "cab_type_Uber                                     -0.068606\n",
              "product_id_6c84fd89-3f11-4782-9b50-97c468b19529    0.195100\n",
              "product_id_6d318bcc-22a3-4af6-bddd-b409bfce1546    0.412593\n",
              "product_id_997acbb5-e102-41e1-b155-9df7de0a73f2   -0.300286\n",
              "product_id_9a0e7b09-b92b-4c41-9779-2ad22b4d779d   -0.236477\n",
              "product_id_lyft                                   -0.239700\n",
              "product_id_lyft_line                              -0.426482\n",
              "product_id_lyft_lux                                0.245791\n",
              "product_id_lyft_luxsuv                             0.412894\n",
              "product_id_lyft_premier                            0.107153\n",
              "name_Black SUV                                     0.412593\n",
              "name_Lux                                           0.107153\n",
              "name_Lux Black                                     0.245791\n",
              "name_Lux Black XL                                  0.412894\n",
              "name_Lyft                                         -0.239700\n",
              "name_Shared                                       -0.426482\n",
              "name_UberPool                                     -0.300286\n",
              "name_UberX                                        -0.236468\n",
              "name_WAV                                          -0.236477\n",
              "Name: price, dtype: float64"
            ]
          },
          "execution_count": 89,
          "metadata": {},
          "output_type": "execute_result"
        }
      ],
      "source": [
        "most_correlated_features = df.corr('spearman')['price']\n",
        "most_correlated_features = most_correlated_features[most_correlated_features.abs() > 0.05] \n",
        "most_correlated_features"
      ]
    },
    {
      "cell_type": "markdown",
      "metadata": {},
      "source": [
        "## Feature Selection"
      ]
    },
    {
      "cell_type": "code",
      "execution_count": 90,
      "metadata": {},
      "outputs": [],
      "source": [
        "selected_features_df = df[most_correlated_features.index]"
      ]
    },
    {
      "cell_type": "markdown",
      "metadata": {
        "id": "wLywgtDgsmUb"
      },
      "source": [
        "# Train-Test Splitting\n",
        "\n",
        "\n",
        "---\n",
        "\n"
      ]
    },
    {
      "cell_type": "code",
      "execution_count": 91,
      "metadata": {
        "id": "L7ZM_bFfd7OF"
      },
      "outputs": [],
      "source": [
        "X, y = selected_features_df.drop(columns=['price']), selected_features_df['price']\n",
        "feature_names = X.columns\n",
        "X_train, X_test, y_train, y_test = train_test_split(X, y, test_size=0.2, random_state=42)"
      ]
    },
    {
      "cell_type": "markdown",
      "metadata": {
        "id": "hNbYERynsaBi"
      },
      "source": [
        "# 1. Linear Models\n",
        "---\n",
        "1.1 Base Linear Regression With Missing **price** dropped\n",
        "\n",
        "1.2 Base Linear Regression With Missing **price** Returned Back to The Training Set (Semi-Supervised Technique)\n",
        "\n",
        "1.3 Regularized Linear Model (Ridge Regression)\n",
        "\n",
        "1.4 Regularized Linear Model (Lasso Regression)"
      ]
    },
    {
      "cell_type": "markdown",
      "metadata": {
        "id": "yW_FQQLVWl_p"
      },
      "source": [
        "## Models as Classes"
      ]
    },
    {
      "cell_type": "code",
      "execution_count": 92,
      "metadata": {
        "id": "RMSCSk2kBN4b"
      },
      "outputs": [],
      "source": [
        "class BaseLinearRegressionModel:\n",
        "    def __init__(self, model):\n",
        "        self.model = Pipeline([\n",
        "            ('scaler', StandardScaler()),\n",
        "            ('reg', model)\n",
        "        ])\n",
        "\n",
        "    def fit(self, X_train, y_train):\n",
        "        self.model.fit(X_train, y_train)\n",
        "\n",
        "    def predict(self, X):\n",
        "        return self.model.predict(X)\n",
        "\n",
        "    def evaluate(self, X_train, y_train, X_test, y_test):\n",
        "        y_train_pred = self.predict(X_train)\n",
        "        y_test_pred = self.predict(X_test)\n",
        "\n",
        "        print(\"Train:\")\n",
        "        print(\"MSE:\", mean_squared_error(y_train, y_train_pred))\n",
        "        print(\"MAE:\", mean_absolute_error(y_train, y_train_pred))\n",
        "        print(\"R^2:\", r2_score(y_train, y_train_pred))\n",
        "\n",
        "        print(\"\\nTest:\")\n",
        "        print(\"MSE:\", mean_squared_error(y_test, y_test_pred))\n",
        "        print(\"MAE:\", mean_absolute_error(y_test, y_test_pred))\n",
        "        print(\"R^2:\", r2_score(y_test, y_test_pred))\n",
        "\n",
        "    def get_coefficients(self):\n",
        "        return self.model.named_steps['reg'].coef_\n",
        "\n",
        "    def get_best_alpha(self):\n",
        "        # Only works if reg has alpha_ (RidgeCV or LassoCV)\n",
        "        return getattr(self.model.named_steps['reg'], 'alpha_', None)\n",
        "\n",
        "    def fit_transform(self, X_train):\n",
        "        return self.model.named_steps['scaler'].fit_transform(X_train)\n",
        "\n",
        "    def transform(self, X):\n",
        "        return self.model.named_steps['scaler'].transform(X)\n",
        "\n",
        "class RidgeRegressionCVModel(BaseLinearRegressionModel):\n",
        "    def __init__(self, alphas=[0.01, 0.1, 1.0, 10.0, 100.0], cv=5):\n",
        "        model = RidgeCV(alphas=alphas, cv=cv)\n",
        "        super().__init__(model)\n",
        "\n",
        "class LassoRegressionCVModel(BaseLinearRegressionModel):\n",
        "    def __init__(self, alphas=[0.001, 0.01, 0.1, 1.0, 10.0], cv=5, max_iter=10000):\n",
        "        model = LassoCV(alphas=alphas, cv=cv, max_iter=max_iter)\n",
        "        super().__init__(model)"
      ]
    },
    {
      "cell_type": "markdown",
      "metadata": {
        "id": "UlbXs2K4FmQp"
      },
      "source": [
        "## 1.1 Base Linear Regression With Missing **price** dropped\n",
        "---"
      ]
    },
    {
      "cell_type": "markdown",
      "metadata": {
        "id": "k22Vs5oes_99"
      },
      "source": [
        "### Fitting"
      ]
    },
    {
      "cell_type": "code",
      "execution_count": 93,
      "metadata": {
        "id": "imDQpKeLvjL3"
      },
      "outputs": [],
      "source": [
        "base_lr_missing_price_dropped = BaseLinearRegressionModel(LinearRegression())\n",
        "base_lr_missing_price_dropped.fit(X_train, y_train)"
      ]
    },
    {
      "cell_type": "markdown",
      "metadata": {
        "id": "sXKVQLuhtCHq"
      },
      "source": [
        "### Evaluation"
      ]
    },
    {
      "cell_type": "code",
      "execution_count": 94,
      "metadata": {
        "colab": {
          "base_uri": "https://localhost:8080/"
        },
        "id": "1-R5Zg_87GL_",
        "outputId": "f831e847-04a5-472c-ae7f-1ad62e9e0262"
      },
      "outputs": [
        {
          "name": "stdout",
          "output_type": "stream",
          "text": [
            "Train:\n",
            "MSE: 6.29728552720506\n",
            "MAE: 1.768796426436131\n",
            "R^2: 0.9275210187617645\n",
            "\n",
            "Test:\n",
            "MSE: 6.3036106668799565\n",
            "MAE: 1.7683802789622907\n",
            "R^2: 0.9276946534667998\n"
          ]
        }
      ],
      "source": [
        "base_lr_missing_price_dropped.evaluate(X_train, y_train, X_test, y_test)"
      ]
    },
    {
      "cell_type": "markdown",
      "metadata": {
        "id": "5gtDyqPOFvC6"
      },
      "source": [
        "### Coefficients"
      ]
    },
    {
      "cell_type": "code",
      "execution_count": 95,
      "metadata": {
        "colab": {
          "base_uri": "https://localhost:8080/",
          "height": 1000
        },
        "id": "AK0mjWdawh8i",
        "outputId": "97f9cad2-e9df-46d7-8f33-ba93a8455c4d"
      },
      "outputs": [
        {
          "data": {
            "text/html": [
              "<div>\n",
              "<style scoped>\n",
              "    .dataframe tbody tr th:only-of-type {\n",
              "        vertical-align: middle;\n",
              "    }\n",
              "\n",
              "    .dataframe tbody tr th {\n",
              "        vertical-align: top;\n",
              "    }\n",
              "\n",
              "    .dataframe thead th {\n",
              "        text-align: right;\n",
              "    }\n",
              "</style>\n",
              "<table border=\"1\" class=\"dataframe\">\n",
              "  <thead>\n",
              "    <tr style=\"text-align: right;\">\n",
              "      <th></th>\n",
              "      <th>Feature</th>\n",
              "      <th>Coefficient</th>\n",
              "    </tr>\n",
              "  </thead>\n",
              "  <tbody>\n",
              "    <tr>\n",
              "      <th>0</th>\n",
              "      <td>distance</td>\n",
              "      <td>3.248531</td>\n",
              "    </tr>\n",
              "    <tr>\n",
              "      <th>17</th>\n",
              "      <td>product_id_lyft_luxsuv</td>\n",
              "      <td>2.314652</td>\n",
              "    </tr>\n",
              "    <tr>\n",
              "      <th>22</th>\n",
              "      <td>name_Lux Black XL</td>\n",
              "      <td>2.314652</td>\n",
              "    </tr>\n",
              "    <tr>\n",
              "      <th>19</th>\n",
              "      <td>name_Black SUV</td>\n",
              "      <td>2.051601</td>\n",
              "    </tr>\n",
              "    <tr>\n",
              "      <th>11</th>\n",
              "      <td>product_id_6d318bcc-22a3-4af6-bddd-b409bfce1546</td>\n",
              "      <td>2.051601</td>\n",
              "    </tr>\n",
              "    <tr>\n",
              "      <th>1</th>\n",
              "      <td>surge_multiplier</td>\n",
              "      <td>1.750053</td>\n",
              "    </tr>\n",
              "    <tr>\n",
              "      <th>26</th>\n",
              "      <td>name_UberX</td>\n",
              "      <td>-1.659294</td>\n",
              "    </tr>\n",
              "    <tr>\n",
              "      <th>10</th>\n",
              "      <td>product_id_6c84fd89-3f11-4782-9b50-97c468b19529</td>\n",
              "      <td>1.358077</td>\n",
              "    </tr>\n",
              "    <tr>\n",
              "      <th>24</th>\n",
              "      <td>name_Shared</td>\n",
              "      <td>-1.165846</td>\n",
              "    </tr>\n",
              "    <tr>\n",
              "      <th>15</th>\n",
              "      <td>product_id_lyft_line</td>\n",
              "      <td>-1.165846</td>\n",
              "    </tr>\n",
              "    <tr>\n",
              "      <th>16</th>\n",
              "      <td>product_id_lyft_lux</td>\n",
              "      <td>1.053897</td>\n",
              "    </tr>\n",
              "    <tr>\n",
              "      <th>21</th>\n",
              "      <td>name_Lux Black</td>\n",
              "      <td>1.053897</td>\n",
              "    </tr>\n",
              "    <tr>\n",
              "      <th>25</th>\n",
              "      <td>name_UberPool</td>\n",
              "      <td>-0.973288</td>\n",
              "    </tr>\n",
              "    <tr>\n",
              "      <th>12</th>\n",
              "      <td>product_id_997acbb5-e102-41e1-b155-9df7de0a73f2</td>\n",
              "      <td>-0.973288</td>\n",
              "    </tr>\n",
              "    <tr>\n",
              "      <th>13</th>\n",
              "      <td>product_id_9a0e7b09-b92b-4c41-9779-2ad22b4d779d</td>\n",
              "      <td>-0.829638</td>\n",
              "    </tr>\n",
              "    <tr>\n",
              "      <th>27</th>\n",
              "      <td>name_WAV</td>\n",
              "      <td>-0.829638</td>\n",
              "    </tr>\n",
              "    <tr>\n",
              "      <th>23</th>\n",
              "      <td>name_Lyft</td>\n",
              "      <td>-0.776932</td>\n",
              "    </tr>\n",
              "    <tr>\n",
              "      <th>14</th>\n",
              "      <td>product_id_lyft</td>\n",
              "      <td>-0.776932</td>\n",
              "    </tr>\n",
              "    <tr>\n",
              "      <th>9</th>\n",
              "      <td>cab_type_Uber</td>\n",
              "      <td>0.528733</td>\n",
              "    </tr>\n",
              "    <tr>\n",
              "      <th>18</th>\n",
              "      <td>product_id_lyft_premier</td>\n",
              "      <td>0.336811</td>\n",
              "    </tr>\n",
              "  </tbody>\n",
              "</table>\n",
              "</div>"
            ],
            "text/plain": [
              "                                            Feature  Coefficient\n",
              "0                                          distance     3.248531\n",
              "17                           product_id_lyft_luxsuv     2.314652\n",
              "22                                name_Lux Black XL     2.314652\n",
              "19                                   name_Black SUV     2.051601\n",
              "11  product_id_6d318bcc-22a3-4af6-bddd-b409bfce1546     2.051601\n",
              "1                                  surge_multiplier     1.750053\n",
              "26                                       name_UberX    -1.659294\n",
              "10  product_id_6c84fd89-3f11-4782-9b50-97c468b19529     1.358077\n",
              "24                                      name_Shared    -1.165846\n",
              "15                             product_id_lyft_line    -1.165846\n",
              "16                              product_id_lyft_lux     1.053897\n",
              "21                                   name_Lux Black     1.053897\n",
              "25                                    name_UberPool    -0.973288\n",
              "12  product_id_997acbb5-e102-41e1-b155-9df7de0a73f2    -0.973288\n",
              "13  product_id_9a0e7b09-b92b-4c41-9779-2ad22b4d779d    -0.829638\n",
              "27                                         name_WAV    -0.829638\n",
              "23                                        name_Lyft    -0.776932\n",
              "14                                  product_id_lyft    -0.776932\n",
              "9                                     cab_type_Uber     0.528733\n",
              "18                          product_id_lyft_premier     0.336811"
            ]
          },
          "execution_count": 95,
          "metadata": {},
          "output_type": "execute_result"
        }
      ],
      "source": [
        "coefficients_of_base_lr_missing_price_dropped = base_lr_missing_price_dropped.get_coefficients()\n",
        "\n",
        "coefficients_of_base_lr_missing_price_dropped_df = pd.DataFrame({\n",
        "    'Feature': feature_names,\n",
        "    'Coefficient': coefficients_of_base_lr_missing_price_dropped\n",
        "}).sort_values(by='Coefficient', key=abs, ascending=False)  # Sorted by absolute value\n",
        "coefficients_of_base_lr_missing_price_dropped_df.head(20)"
      ]
    },
    {
      "cell_type": "markdown",
      "metadata": {
        "id": "wXeCSb59FyaB"
      },
      "source": [
        "### Residual Plot"
      ]
    },
    {
      "cell_type": "code",
      "execution_count": 96,
      "metadata": {
        "colab": {
          "base_uri": "https://localhost:8080/",
          "height": 492
        },
        "id": "lAkqapwD1vTD",
        "outputId": "27c735ab-1103-46a0-dd05-351cb61a4a62"
      },
      "outputs": [
        {
          "data": {
            "image/png": "[encoded data removed]",
            "text/plain": [
              "<Figure size 800x500 with 1 Axes>"
            ]
          },
          "metadata": {},
          "output_type": "display_data"
        }
      ],
      "source": [
        "residuals_of_base_lr_missing_price_dropped = y_test - base_lr_missing_price_dropped.predict(X_test)\n",
        "plt.figure(figsize=(8, 5))\n",
        "sns.scatterplot(x=y_test, y=residuals_of_base_lr_missing_price_dropped, alpha=0.8)\n",
        "plt.axhline(0, color='blue', linestyle='--')\n",
        "plt.xlabel('Actual Price')\n",
        "plt.ylabel('Residual (Actual - Predicted)')\n",
        "plt.title('Residual Plot')\n",
        "output_path = './images/residual_of_base_lr'\n",
        "plt.savefig(output_path)\n",
        "plt.show()"
      ]
    },
    {
      "cell_type": "markdown",
      "metadata": {
        "id": "ypiYSpnMs5c8"
      },
      "source": [
        "## 1.2 Base Linear Regression With Missing **price** Returned Back to The Training Set\n",
        "---"
      ]
    },
    {
      "cell_type": "markdown",
      "metadata": {
        "id": "LGBv_KefGEY5"
      },
      "source": [
        "### Prediction of Missing **Prices** via Trained Model"
      ]
    },
    {
      "cell_type": "code",
      "execution_count": 97,
      "metadata": {
        "colab": {
          "base_uri": "https://localhost:8080/"
        },
        "id": "1AwlQzftD1lB",
        "outputId": "e5fca15d-1304-416f-fde9-1ac50f2b9cc1"
      },
      "outputs": [
        {
          "name": "stderr",
          "output_type": "stream",
          "text": [
            "/home/mmdproject/env_for_ai/lib/python3.12/site-packages/sklearn/utils/validation.py:2739: UserWarning: X does not have valid feature names, but StandardScaler was fitted with feature names\n",
            "  warnings.warn(\n",
            "/tmp/ipykernel_64456/761895721.py:2: SettingWithCopyWarning: \n",
            "A value is trying to be set on a copy of a slice from a DataFrame.\n",
            "Try using .loc[row_indexer,col_indexer] = value instead\n",
            "\n",
            "See the caveats in the documentation: https://pandas.pydata.org/pandas-docs/stable/user_guide/indexing.html#returning-a-view-versus-a-copy\n",
            "  df_missing_price['price'] = base_lr_missing_price_dropped.predict(X_of_missing_price_scaled)\n"
          ]
        }
      ],
      "source": [
        "X_of_missing_price_scaled = base_lr_missing_price_dropped.transform(df_missing_price[selected_features_df.columns].drop(columns=['price']))\n",
        "df_missing_price['price'] = base_lr_missing_price_dropped.predict(X_of_missing_price_scaled)"
      ]
    },
    {
      "cell_type": "markdown",
      "metadata": {
        "id": "rgiKT9kdGLNR"
      },
      "source": [
        "### Putting Back The Rows With Missing Values on **price** to The Training Set"
      ]
    },
    {
      "cell_type": "code",
      "execution_count": 98,
      "metadata": {
        "id": "e7JDfS95nS82"
      },
      "outputs": [],
      "source": [
        "X_train_concat_missing_price = pd.concat([X_train, df_missing_price[selected_features_df.columns].drop(columns=['price'])])\n",
        "y_train_concat_missing_price = pd.concat([y_train, df_missing_price['price']])"
      ]
    },
    {
      "cell_type": "markdown",
      "metadata": {
        "id": "NVV9ij8_GeYi"
      },
      "source": [
        "### Training a New Model"
      ]
    },
    {
      "cell_type": "code",
      "execution_count": 99,
      "metadata": {
        "id": "iEYCtyJ6EwbX"
      },
      "outputs": [],
      "source": [
        "base_lr_missing_price_concat = BaseLinearRegressionModel(LinearRegression())\n",
        "base_lr_missing_price_concat.fit(X_train_concat_missing_price, y_train_concat_missing_price)"
      ]
    },
    {
      "cell_type": "markdown",
      "metadata": {
        "id": "xkQaXBK_Gru_"
      },
      "source": [
        "### Evaluation"
      ]
    },
    {
      "cell_type": "code",
      "execution_count": 100,
      "metadata": {
        "colab": {
          "base_uri": "https://localhost:8080/"
        },
        "id": "6xfVBgUarWkV",
        "outputId": "ba471e1a-3608-48e0-e6f4-43d781d49b01"
      },
      "outputs": [
        {
          "name": "stdout",
          "output_type": "stream",
          "text": [
            "Train:\n",
            "MSE: 32.841448260354966\n",
            "MAE: 3.135505457714535\n",
            "R^2: 0.6220094035730962\n",
            "\n",
            "Test:\n",
            "MSE: 32.882463782093154\n",
            "MAE: 3.1391516086544535\n",
            "R^2: 0.6228228448305393\n"
          ]
        }
      ],
      "source": [
        "base_lr_missing_price_concat.evaluate(X_train, y_train, X_test, y_test)"
      ]
    },
    {
      "cell_type": "markdown",
      "metadata": {},
      "source": [
        "### Coefficients"
      ]
    },
    {
      "cell_type": "code",
      "execution_count": 101,
      "metadata": {},
      "outputs": [
        {
          "data": {
            "text/html": [
              "<div>\n",
              "<style scoped>\n",
              "    .dataframe tbody tr th:only-of-type {\n",
              "        vertical-align: middle;\n",
              "    }\n",
              "\n",
              "    .dataframe tbody tr th {\n",
              "        vertical-align: top;\n",
              "    }\n",
              "\n",
              "    .dataframe thead th {\n",
              "        text-align: right;\n",
              "    }\n",
              "</style>\n",
              "<table border=\"1\" class=\"dataframe\">\n",
              "  <thead>\n",
              "    <tr style=\"text-align: right;\">\n",
              "      <th></th>\n",
              "      <th>Feature</th>\n",
              "      <th>Coefficient</th>\n",
              "    </tr>\n",
              "  </thead>\n",
              "  <tbody>\n",
              "    <tr>\n",
              "      <th>0</th>\n",
              "      <td>distance</td>\n",
              "      <td>3.248531</td>\n",
              "    </tr>\n",
              "    <tr>\n",
              "      <th>17</th>\n",
              "      <td>product_id_lyft_luxsuv</td>\n",
              "      <td>2.314652</td>\n",
              "    </tr>\n",
              "    <tr>\n",
              "      <th>22</th>\n",
              "      <td>name_Lux Black XL</td>\n",
              "      <td>2.314652</td>\n",
              "    </tr>\n",
              "    <tr>\n",
              "      <th>19</th>\n",
              "      <td>name_Black SUV</td>\n",
              "      <td>2.051601</td>\n",
              "    </tr>\n",
              "    <tr>\n",
              "      <th>11</th>\n",
              "      <td>product_id_6d318bcc-22a3-4af6-bddd-b409bfce1546</td>\n",
              "      <td>2.051601</td>\n",
              "    </tr>\n",
              "    <tr>\n",
              "      <th>1</th>\n",
              "      <td>surge_multiplier</td>\n",
              "      <td>1.750053</td>\n",
              "    </tr>\n",
              "    <tr>\n",
              "      <th>26</th>\n",
              "      <td>name_UberX</td>\n",
              "      <td>-1.659294</td>\n",
              "    </tr>\n",
              "    <tr>\n",
              "      <th>10</th>\n",
              "      <td>product_id_6c84fd89-3f11-4782-9b50-97c468b19529</td>\n",
              "      <td>1.358077</td>\n",
              "    </tr>\n",
              "    <tr>\n",
              "      <th>24</th>\n",
              "      <td>name_Shared</td>\n",
              "      <td>-1.165846</td>\n",
              "    </tr>\n",
              "    <tr>\n",
              "      <th>15</th>\n",
              "      <td>product_id_lyft_line</td>\n",
              "      <td>-1.165846</td>\n",
              "    </tr>\n",
              "    <tr>\n",
              "      <th>16</th>\n",
              "      <td>product_id_lyft_lux</td>\n",
              "      <td>1.053897</td>\n",
              "    </tr>\n",
              "    <tr>\n",
              "      <th>21</th>\n",
              "      <td>name_Lux Black</td>\n",
              "      <td>1.053897</td>\n",
              "    </tr>\n",
              "    <tr>\n",
              "      <th>25</th>\n",
              "      <td>name_UberPool</td>\n",
              "      <td>-0.973288</td>\n",
              "    </tr>\n",
              "    <tr>\n",
              "      <th>12</th>\n",
              "      <td>product_id_997acbb5-e102-41e1-b155-9df7de0a73f2</td>\n",
              "      <td>-0.973288</td>\n",
              "    </tr>\n",
              "    <tr>\n",
              "      <th>13</th>\n",
              "      <td>product_id_9a0e7b09-b92b-4c41-9779-2ad22b4d779d</td>\n",
              "      <td>-0.829638</td>\n",
              "    </tr>\n",
              "    <tr>\n",
              "      <th>27</th>\n",
              "      <td>name_WAV</td>\n",
              "      <td>-0.829638</td>\n",
              "    </tr>\n",
              "    <tr>\n",
              "      <th>23</th>\n",
              "      <td>name_Lyft</td>\n",
              "      <td>-0.776932</td>\n",
              "    </tr>\n",
              "    <tr>\n",
              "      <th>14</th>\n",
              "      <td>product_id_lyft</td>\n",
              "      <td>-0.776932</td>\n",
              "    </tr>\n",
              "    <tr>\n",
              "      <th>9</th>\n",
              "      <td>cab_type_Uber</td>\n",
              "      <td>0.528733</td>\n",
              "    </tr>\n",
              "    <tr>\n",
              "      <th>18</th>\n",
              "      <td>product_id_lyft_premier</td>\n",
              "      <td>0.336811</td>\n",
              "    </tr>\n",
              "  </tbody>\n",
              "</table>\n",
              "</div>"
            ],
            "text/plain": [
              "                                            Feature  Coefficient\n",
              "0                                          distance     3.248531\n",
              "17                           product_id_lyft_luxsuv     2.314652\n",
              "22                                name_Lux Black XL     2.314652\n",
              "19                                   name_Black SUV     2.051601\n",
              "11  product_id_6d318bcc-22a3-4af6-bddd-b409bfce1546     2.051601\n",
              "1                                  surge_multiplier     1.750053\n",
              "26                                       name_UberX    -1.659294\n",
              "10  product_id_6c84fd89-3f11-4782-9b50-97c468b19529     1.358077\n",
              "24                                      name_Shared    -1.165846\n",
              "15                             product_id_lyft_line    -1.165846\n",
              "16                              product_id_lyft_lux     1.053897\n",
              "21                                   name_Lux Black     1.053897\n",
              "25                                    name_UberPool    -0.973288\n",
              "12  product_id_997acbb5-e102-41e1-b155-9df7de0a73f2    -0.973288\n",
              "13  product_id_9a0e7b09-b92b-4c41-9779-2ad22b4d779d    -0.829638\n",
              "27                                         name_WAV    -0.829638\n",
              "23                                        name_Lyft    -0.776932\n",
              "14                                  product_id_lyft    -0.776932\n",
              "9                                     cab_type_Uber     0.528733\n",
              "18                          product_id_lyft_premier     0.336811"
            ]
          },
          "execution_count": 101,
          "metadata": {},
          "output_type": "execute_result"
        }
      ],
      "source": [
        "coefficients_of_base_lr_missing_price_concat = base_lr_missing_price_concat.get_coefficients()\n",
        "\n",
        "coefficients_of_base_lr_missing_price_concat = pd.DataFrame({\n",
        "    'Feature': feature_names,\n",
        "    'Coefficient': coefficients_of_base_lr_missing_price_concat\n",
        "}).sort_values(by='Coefficient', key=abs, ascending=False)  # Sorted by absolute value\n",
        "coefficients_of_base_lr_missing_price_dropped_df.head(20)"
      ]
    },
    {
      "cell_type": "markdown",
      "metadata": {
        "id": "HCKh_Nb6OYuZ"
      },
      "source": [
        "## 1.3 Regularized Linear Model (Ridge Regression)\n",
        "---"
      ]
    },
    {
      "cell_type": "markdown",
      "metadata": {
        "id": "EkqJlgQfOodN"
      },
      "source": [
        "### Fitting"
      ]
    },
    {
      "cell_type": "code",
      "execution_count": 102,
      "metadata": {
        "colab": {
          "base_uri": "https://localhost:8080/"
        },
        "id": "YKihBsWAOqIg",
        "outputId": "902d389e-d784-4963-9a41-19546aee70f5"
      },
      "outputs": [
        {
          "name": "stdout",
          "output_type": "stream",
          "text": [
            "Best alpha for Ridge Regression:  10.0\n"
          ]
        }
      ],
      "source": [
        "rrcvmodel = RidgeRegressionCVModel(alphas=[0.01, 0.1, 1.0, 10.0, 100.0, 200.0, 400.0, 500.0, 1000])\n",
        "rrcvmodel.fit(X_train, y_train)\n",
        "print('Best alpha for Ridge Regression: ', rrcvmodel.get_best_alpha())"
      ]
    },
    {
      "cell_type": "markdown",
      "metadata": {
        "id": "uT5pr8iKOodN"
      },
      "source": [
        "### Evaluation"
      ]
    },
    {
      "cell_type": "code",
      "execution_count": 103,
      "metadata": {
        "colab": {
          "base_uri": "https://localhost:8080/"
        },
        "id": "ZJeC18WFPLWq",
        "outputId": "ad61a1f3-15fa-4b47-9d1c-435c460033c8"
      },
      "outputs": [
        {
          "name": "stdout",
          "output_type": "stream",
          "text": [
            "Train:\n",
            "MSE: 6.297285544051044\n",
            "MAE: 1.768784347153084\n",
            "R^2: 0.9275210185678746\n",
            "\n",
            "Test:\n",
            "MSE: 6.303612959667133\n",
            "MAE: 1.7683682448812894\n",
            "R^2: 0.9276946271674644\n"
          ]
        }
      ],
      "source": [
        "rrcvmodel.evaluate(X_train, y_train, X_test, y_test)"
      ]
    },
    {
      "cell_type": "markdown",
      "metadata": {},
      "source": [
        "### Coefficients"
      ]
    },
    {
      "cell_type": "code",
      "execution_count": 104,
      "metadata": {},
      "outputs": [
        {
          "data": {
            "text/html": [
              "<div>\n",
              "<style scoped>\n",
              "    .dataframe tbody tr th:only-of-type {\n",
              "        vertical-align: middle;\n",
              "    }\n",
              "\n",
              "    .dataframe tbody tr th {\n",
              "        vertical-align: top;\n",
              "    }\n",
              "\n",
              "    .dataframe thead th {\n",
              "        text-align: right;\n",
              "    }\n",
              "</style>\n",
              "<table border=\"1\" class=\"dataframe\">\n",
              "  <thead>\n",
              "    <tr style=\"text-align: right;\">\n",
              "      <th></th>\n",
              "      <th>Feature</th>\n",
              "      <th>Coefficient</th>\n",
              "    </tr>\n",
              "  </thead>\n",
              "  <tbody>\n",
              "    <tr>\n",
              "      <th>0</th>\n",
              "      <td>distance</td>\n",
              "      <td>3.248439</td>\n",
              "    </tr>\n",
              "    <tr>\n",
              "      <th>17</th>\n",
              "      <td>product_id_lyft_luxsuv</td>\n",
              "      <td>2.314606</td>\n",
              "    </tr>\n",
              "    <tr>\n",
              "      <th>22</th>\n",
              "      <td>name_Lux Black XL</td>\n",
              "      <td>2.314606</td>\n",
              "    </tr>\n",
              "    <tr>\n",
              "      <th>19</th>\n",
              "      <td>name_Black SUV</td>\n",
              "      <td>2.051592</td>\n",
              "    </tr>\n",
              "    <tr>\n",
              "      <th>11</th>\n",
              "      <td>product_id_6d318bcc-22a3-4af6-bddd-b409bfce1546</td>\n",
              "      <td>2.051592</td>\n",
              "    </tr>\n",
              "    <tr>\n",
              "      <th>1</th>\n",
              "      <td>surge_multiplier</td>\n",
              "      <td>1.750018</td>\n",
              "    </tr>\n",
              "    <tr>\n",
              "      <th>26</th>\n",
              "      <td>name_UberX</td>\n",
              "      <td>-1.659247</td>\n",
              "    </tr>\n",
              "    <tr>\n",
              "      <th>10</th>\n",
              "      <td>product_id_6c84fd89-3f11-4782-9b50-97c468b19529</td>\n",
              "      <td>1.358071</td>\n",
              "    </tr>\n",
              "    <tr>\n",
              "      <th>24</th>\n",
              "      <td>name_Shared</td>\n",
              "      <td>-1.165862</td>\n",
              "    </tr>\n",
              "    <tr>\n",
              "      <th>15</th>\n",
              "      <td>product_id_lyft_line</td>\n",
              "      <td>-1.165862</td>\n",
              "    </tr>\n",
              "    <tr>\n",
              "      <th>21</th>\n",
              "      <td>name_Lux Black</td>\n",
              "      <td>1.053863</td>\n",
              "    </tr>\n",
              "    <tr>\n",
              "      <th>16</th>\n",
              "      <td>product_id_lyft_lux</td>\n",
              "      <td>1.053863</td>\n",
              "    </tr>\n",
              "    <tr>\n",
              "      <th>25</th>\n",
              "      <td>name_UberPool</td>\n",
              "      <td>-0.973271</td>\n",
              "    </tr>\n",
              "    <tr>\n",
              "      <th>12</th>\n",
              "      <td>product_id_997acbb5-e102-41e1-b155-9df7de0a73f2</td>\n",
              "      <td>-0.973271</td>\n",
              "    </tr>\n",
              "    <tr>\n",
              "      <th>27</th>\n",
              "      <td>name_WAV</td>\n",
              "      <td>-0.829621</td>\n",
              "    </tr>\n",
              "    <tr>\n",
              "      <th>13</th>\n",
              "      <td>product_id_9a0e7b09-b92b-4c41-9779-2ad22b4d779d</td>\n",
              "      <td>-0.829621</td>\n",
              "    </tr>\n",
              "    <tr>\n",
              "      <th>23</th>\n",
              "      <td>name_Lyft</td>\n",
              "      <td>-0.776950</td>\n",
              "    </tr>\n",
              "    <tr>\n",
              "      <th>14</th>\n",
              "      <td>product_id_lyft</td>\n",
              "      <td>-0.776950</td>\n",
              "    </tr>\n",
              "    <tr>\n",
              "      <th>9</th>\n",
              "      <td>cab_type_Uber</td>\n",
              "      <td>0.528604</td>\n",
              "    </tr>\n",
              "    <tr>\n",
              "      <th>18</th>\n",
              "      <td>product_id_lyft_premier</td>\n",
              "      <td>0.336783</td>\n",
              "    </tr>\n",
              "  </tbody>\n",
              "</table>\n",
              "</div>"
            ],
            "text/plain": [
              "                                            Feature  Coefficient\n",
              "0                                          distance     3.248439\n",
              "17                           product_id_lyft_luxsuv     2.314606\n",
              "22                                name_Lux Black XL     2.314606\n",
              "19                                   name_Black SUV     2.051592\n",
              "11  product_id_6d318bcc-22a3-4af6-bddd-b409bfce1546     2.051592\n",
              "1                                  surge_multiplier     1.750018\n",
              "26                                       name_UberX    -1.659247\n",
              "10  product_id_6c84fd89-3f11-4782-9b50-97c468b19529     1.358071\n",
              "24                                      name_Shared    -1.165862\n",
              "15                             product_id_lyft_line    -1.165862\n",
              "21                                   name_Lux Black     1.053863\n",
              "16                              product_id_lyft_lux     1.053863\n",
              "25                                    name_UberPool    -0.973271\n",
              "12  product_id_997acbb5-e102-41e1-b155-9df7de0a73f2    -0.973271\n",
              "27                                         name_WAV    -0.829621\n",
              "13  product_id_9a0e7b09-b92b-4c41-9779-2ad22b4d779d    -0.829621\n",
              "23                                        name_Lyft    -0.776950\n",
              "14                                  product_id_lyft    -0.776950\n",
              "9                                     cab_type_Uber     0.528604\n",
              "18                          product_id_lyft_premier     0.336783"
            ]
          },
          "execution_count": 104,
          "metadata": {},
          "output_type": "execute_result"
        }
      ],
      "source": [
        "coefficients_of_rrcv = rrcvmodel.get_coefficients()\n",
        "\n",
        "coefficients_of_rrcv = pd.DataFrame({\n",
        "    'Feature': feature_names,\n",
        "    'Coefficient': coefficients_of_rrcv\n",
        "}).sort_values(by='Coefficient', key=abs, ascending=False)  # Sorted by absolute value\n",
        "coefficients_of_rrcv.head(20)"
      ]
    },
    {
      "cell_type": "markdown",
      "metadata": {
        "id": "kV_cdiuNOhqN"
      },
      "source": [
        "## 1.4 Regularized Linear Model (Lasso Regression)\n",
        "---"
      ]
    },
    {
      "cell_type": "markdown",
      "metadata": {
        "id": "mIArxoSURDY3"
      },
      "source": [
        "### Fitting"
      ]
    },
    {
      "cell_type": "code",
      "execution_count": 105,
      "metadata": {
        "colab": {
          "base_uri": "https://localhost:8080/"
        },
        "id": "_eJzM5SIRDY4",
        "outputId": "9c682ac6-b24c-4e4b-c32b-fe783e650d9d"
      },
      "outputs": [
        {
          "name": "stdout",
          "output_type": "stream",
          "text": [
            "Best alpha for Ridge Regression:  0.001\n"
          ]
        }
      ],
      "source": [
        "lassocvmodel = LassoRegressionCVModel()\n",
        "lassocvmodel.fit(X_train, y_train)\n",
        "print('Best alpha for Ridge Regression: ', lassocvmodel.get_best_alpha())"
      ]
    },
    {
      "cell_type": "markdown",
      "metadata": {
        "id": "Ap3GvJmkRDY4"
      },
      "source": [
        "### Evaluation"
      ]
    },
    {
      "cell_type": "code",
      "execution_count": 106,
      "metadata": {
        "colab": {
          "base_uri": "https://localhost:8080/"
        },
        "id": "nXTs5zxlRDY4",
        "outputId": "c5f9d3b8-795a-4872-d152-fb0249a0a7d7"
      },
      "outputs": [
        {
          "name": "stdout",
          "output_type": "stream",
          "text": [
            "Train:\n",
            "MSE: 6.2973257951913695\n",
            "MAE: 1.7682995246673996\n",
            "R^2: 0.9275205552949879\n",
            "\n",
            "Test:\n",
            "MSE: 6.30373540855158\n",
            "MAE: 1.7678830313640728\n",
            "R^2: 0.9276932226218015\n"
          ]
        }
      ],
      "source": [
        "lassocvmodel.evaluate(X_train, y_train, X_test, y_test)"
      ]
    },
    {
      "cell_type": "markdown",
      "metadata": {},
      "source": [
        "### Coefficients"
      ]
    },
    {
      "cell_type": "code",
      "execution_count": 107,
      "metadata": {},
      "outputs": [
        {
          "data": {
            "text/html": [
              "<div>\n",
              "<style scoped>\n",
              "    .dataframe tbody tr th:only-of-type {\n",
              "        vertical-align: middle;\n",
              "    }\n",
              "\n",
              "    .dataframe tbody tr th {\n",
              "        vertical-align: top;\n",
              "    }\n",
              "\n",
              "    .dataframe thead th {\n",
              "        text-align: right;\n",
              "    }\n",
              "</style>\n",
              "<table border=\"1\" class=\"dataframe\">\n",
              "  <thead>\n",
              "    <tr style=\"text-align: right;\">\n",
              "      <th></th>\n",
              "      <th>Feature</th>\n",
              "      <th>Coefficient</th>\n",
              "    </tr>\n",
              "  </thead>\n",
              "  <tbody>\n",
              "    <tr>\n",
              "      <th>17</th>\n",
              "      <td>product_id_lyft_luxsuv</td>\n",
              "      <td>4.520455</td>\n",
              "    </tr>\n",
              "    <tr>\n",
              "      <th>11</th>\n",
              "      <td>product_id_6d318bcc-22a3-4af6-bddd-b409bfce1546</td>\n",
              "      <td>4.032888</td>\n",
              "    </tr>\n",
              "    <tr>\n",
              "      <th>0</th>\n",
              "      <td>distance</td>\n",
              "      <td>3.245532</td>\n",
              "    </tr>\n",
              "    <tr>\n",
              "      <th>15</th>\n",
              "      <td>product_id_lyft_line</td>\n",
              "      <td>-2.333595</td>\n",
              "    </tr>\n",
              "    <tr>\n",
              "      <th>12</th>\n",
              "      <td>product_id_997acbb5-e102-41e1-b155-9df7de0a73f2</td>\n",
              "      <td>-1.943076</td>\n",
              "    </tr>\n",
              "    <tr>\n",
              "      <th>1</th>\n",
              "      <td>surge_multiplier</td>\n",
              "      <td>1.748819</td>\n",
              "    </tr>\n",
              "    <tr>\n",
              "      <th>26</th>\n",
              "      <td>name_UberX</td>\n",
              "      <td>-1.655794</td>\n",
              "    </tr>\n",
              "    <tr>\n",
              "      <th>13</th>\n",
              "      <td>product_id_9a0e7b09-b92b-4c41-9779-2ad22b4d779d</td>\n",
              "      <td>-1.655781</td>\n",
              "    </tr>\n",
              "    <tr>\n",
              "      <th>16</th>\n",
              "      <td>product_id_lyft_lux</td>\n",
              "      <td>1.644819</td>\n",
              "    </tr>\n",
              "    <tr>\n",
              "      <th>14</th>\n",
              "      <td>product_id_lyft</td>\n",
              "      <td>-1.555639</td>\n",
              "    </tr>\n",
              "    <tr>\n",
              "      <th>10</th>\n",
              "      <td>product_id_6c84fd89-3f11-4782-9b50-97c468b19529</td>\n",
              "      <td>1.359757</td>\n",
              "    </tr>\n",
              "    <tr>\n",
              "      <th>18</th>\n",
              "      <td>product_id_lyft_premier</td>\n",
              "      <td>0.647460</td>\n",
              "    </tr>\n",
              "    <tr>\n",
              "      <th>9</th>\n",
              "      <td>cab_type_Uber</td>\n",
              "      <td>0.518944</td>\n",
              "    </tr>\n",
              "    <tr>\n",
              "      <th>21</th>\n",
              "      <td>name_Lux Black</td>\n",
              "      <td>0.459369</td>\n",
              "    </tr>\n",
              "    <tr>\n",
              "      <th>6</th>\n",
              "      <td>destination_Fenway</td>\n",
              "      <td>-0.110579</td>\n",
              "    </tr>\n",
              "    <tr>\n",
              "      <th>22</th>\n",
              "      <td>name_Lux Black XL</td>\n",
              "      <td>0.105234</td>\n",
              "    </tr>\n",
              "    <tr>\n",
              "      <th>2</th>\n",
              "      <td>source_Boston University</td>\n",
              "      <td>-0.091281</td>\n",
              "    </tr>\n",
              "    <tr>\n",
              "      <th>4</th>\n",
              "      <td>source_Haymarket Square</td>\n",
              "      <td>0.072154</td>\n",
              "    </tr>\n",
              "    <tr>\n",
              "      <th>19</th>\n",
              "      <td>name_Black SUV</td>\n",
              "      <td>0.071985</td>\n",
              "    </tr>\n",
              "    <tr>\n",
              "      <th>3</th>\n",
              "      <td>source_Fenway</td>\n",
              "      <td>-0.038970</td>\n",
              "    </tr>\n",
              "  </tbody>\n",
              "</table>\n",
              "</div>"
            ],
            "text/plain": [
              "                                            Feature  Coefficient\n",
              "17                           product_id_lyft_luxsuv     4.520455\n",
              "11  product_id_6d318bcc-22a3-4af6-bddd-b409bfce1546     4.032888\n",
              "0                                          distance     3.245532\n",
              "15                             product_id_lyft_line    -2.333595\n",
              "12  product_id_997acbb5-e102-41e1-b155-9df7de0a73f2    -1.943076\n",
              "1                                  surge_multiplier     1.748819\n",
              "26                                       name_UberX    -1.655794\n",
              "13  product_id_9a0e7b09-b92b-4c41-9779-2ad22b4d779d    -1.655781\n",
              "16                              product_id_lyft_lux     1.644819\n",
              "14                                  product_id_lyft    -1.555639\n",
              "10  product_id_6c84fd89-3f11-4782-9b50-97c468b19529     1.359757\n",
              "18                          product_id_lyft_premier     0.647460\n",
              "9                                     cab_type_Uber     0.518944\n",
              "21                                   name_Lux Black     0.459369\n",
              "6                                destination_Fenway    -0.110579\n",
              "22                                name_Lux Black XL     0.105234\n",
              "2                          source_Boston University    -0.091281\n",
              "4                           source_Haymarket Square     0.072154\n",
              "19                                   name_Black SUV     0.071985\n",
              "3                                     source_Fenway    -0.038970"
            ]
          },
          "execution_count": 107,
          "metadata": {},
          "output_type": "execute_result"
        }
      ],
      "source": [
        "coefficients_of_lassocv = lassocvmodel.get_coefficients()\n",
        "\n",
        "coefficients_of_lassocv = pd.DataFrame({\n",
        "    'Feature': feature_names,\n",
        "    'Coefficient': coefficients_of_lassocv\n",
        "}).sort_values(by='Coefficient', key=abs, ascending=False)  # Sorted by absolute value\n",
        "coefficients_of_lassocv.head(20)"
      ]
    },
    {
      "cell_type": "markdown",
      "metadata": {
        "id": "m-8xHwwTXZvU"
      },
      "source": [
        "# 2. Polynomial Models\n",
        "---\n",
        "2.1 Quadratic Model With Ridge Regression\n",
        "\n",
        "2.2 Quadratic Model With Lasso Regression"
      ]
    },
    {
      "cell_type": "markdown",
      "metadata": {
        "id": "HY3y5WedXjq9"
      },
      "source": [
        "## Models as Classes"
      ]
    },
    {
      "cell_type": "code",
      "execution_count": 108,
      "metadata": {
        "id": "LxFx79uUXZbf"
      },
      "outputs": [],
      "source": [
        "class BasePolynomialRegressionModel:\n",
        "    def __init__(self, model, degree=2):\n",
        "        self.model = Pipeline([\n",
        "            ('scaler', StandardScaler()),  # Standard scaling for features\n",
        "            ('poly', PolynomialFeatures(degree=degree)),  # Polynomial feature transformation\n",
        "            ('reg', model)  # Regression model (RidgeCV or LassoCV)\n",
        "        ])\n",
        "\n",
        "    def fit(self, X_train, y_train):\n",
        "        self.model.fit(X_train, y_train)\n",
        "\n",
        "    def predict(self, X):\n",
        "        return self.model.predict(X)\n",
        "\n",
        "    def evaluate(self, X_train, y_train, X_test, y_test):\n",
        "        y_train_pred = self.predict(X_train)\n",
        "        y_test_pred = self.predict(X_test)\n",
        "\n",
        "        print(\"Train:\")\n",
        "        print(\"MSE:\", mean_squared_error(y_train, y_train_pred))\n",
        "        print(\"MAE:\", mean_absolute_error(y_train, y_train_pred))\n",
        "        print(\"R^2:\", r2_score(y_train, y_train_pred))\n",
        "\n",
        "        print(\"\\nTest:\")\n",
        "        print(\"MSE:\", mean_squared_error(y_test, y_test_pred))\n",
        "        print(\"MAE:\", mean_absolute_error(y_test, y_test_pred))\n",
        "        print(\"R^2:\", r2_score(y_test, y_test_pred))\n",
        "\n",
        "    def get_coefficients(self):\n",
        "        return self.model.named_steps['reg'].coef_\n",
        "\n",
        "    def get_best_alpha(self):\n",
        "        # Only works if reg has alpha_ (RidgeCV or LassoCV)\n",
        "        return getattr(self.model.named_steps['reg'], 'alpha_', None)\n",
        "\n",
        "    def fit_transform(self, X_train):\n",
        "        return self.model.named_steps['scaler'].fit_transform(X_train)\n",
        "\n",
        "    def transform(self, X):\n",
        "        return self.model.named_steps['scaler'].transform(X)\n",
        "\n",
        "\n",
        "class PolynomialRidgeRegressionCVModel(BasePolynomialRegressionModel):\n",
        "    def __init__(self, alphas=[0.01, 0.1, 1.0, 10.0, 100.0], cv=5, degree=2):\n",
        "        model = RidgeCV(alphas=alphas, cv=cv)\n",
        "        super().__init__(model, degree)\n",
        "\n",
        "\n",
        "class PolynomialLassoRegressionCVModel(BasePolynomialRegressionModel):\n",
        "    def __init__(self, alphas=[0.001, 0.01, 0.1, 1.0, 10.0], cv=5, max_iter=10000, degree=2):\n",
        "        model = LassoCV(alphas=alphas, cv=cv, max_iter=max_iter)\n",
        "        super().__init__(model, degree)"
      ]
    },
    {
      "cell_type": "markdown",
      "metadata": {
        "id": "7oWpkeIRXrVL"
      },
      "source": [
        "## 2.1 Quadratic Model With Ridge Regression\n",
        "---"
      ]
    },
    {
      "cell_type": "markdown",
      "metadata": {
        "id": "O6vv1UJaYLry"
      },
      "source": [
        "### Fitting"
      ]
    },
    {
      "cell_type": "code",
      "execution_count": 109,
      "metadata": {
        "id": "To44oXdlYNhz"
      },
      "outputs": [
        {
          "name": "stdout",
          "output_type": "stream",
          "text": [
            "Best alpha for Quadratic Regression with Ridge Regression:  10.0\n"
          ]
        }
      ],
      "source": [
        "select_features_for_poly_reg = most_correlated_features.head(50).index.drop(['price'])\n",
        "filtered_X_train_by_selected_features_for_poly_reg = X_train[select_features_for_poly_reg]\n",
        "filtered_X_test_by_selected_features_for_poly_reg = X_test[select_features_for_poly_reg]\n",
        "qrrcv = PolynomialRidgeRegressionCVModel([1.0, 10.0, 50, 100, 200])\n",
        "qrrcv.fit(filtered_X_train_by_selected_features_for_poly_reg, y_train)\n",
        "print('Best alpha for Quadratic Regression with Ridge Regression: ', qrrcv.get_best_alpha())"
      ]
    },
    {
      "cell_type": "markdown",
      "metadata": {
        "id": "riwbb_DrYLry"
      },
      "source": [
        "### Evaluation"
      ]
    },
    {
      "cell_type": "code",
      "execution_count": 110,
      "metadata": {
        "id": "zwrJEsNcYoJO"
      },
      "outputs": [
        {
          "name": "stdout",
          "output_type": "stream",
          "text": [
            "Train:\n",
            "MSE: 3.4229031156879457\n",
            "MAE: 1.262073579528522\n",
            "R^2: 0.9606038935934426\n",
            "\n",
            "Test:\n",
            "MSE: 3.384238368053386\n",
            "MAE: 1.2581839855154915\n",
            "R^2: 0.961181211707961\n"
          ]
        }
      ],
      "source": [
        "qrrcv.evaluate(filtered_X_train_by_selected_features_for_poly_reg, y_train, filtered_X_test_by_selected_features_for_poly_reg, y_test)"
      ]
    },
    {
      "cell_type": "markdown",
      "metadata": {},
      "source": [
        "### Coefficients"
      ]
    },
    {
      "cell_type": "code",
      "execution_count": 111,
      "metadata": {},
      "outputs": [
        {
          "data": {
            "text/html": [
              "<div>\n",
              "<style scoped>\n",
              "    .dataframe tbody tr th:only-of-type {\n",
              "        vertical-align: middle;\n",
              "    }\n",
              "\n",
              "    .dataframe tbody tr th {\n",
              "        vertical-align: top;\n",
              "    }\n",
              "\n",
              "    .dataframe thead th {\n",
              "        text-align: right;\n",
              "    }\n",
              "</style>\n",
              "<table border=\"1\" class=\"dataframe\">\n",
              "  <thead>\n",
              "    <tr style=\"text-align: right;\">\n",
              "      <th></th>\n",
              "      <th>Coefficient</th>\n",
              "    </tr>\n",
              "  </thead>\n",
              "  <tbody>\n",
              "    <tr>\n",
              "      <th>1</th>\n",
              "      <td>3.355929</td>\n",
              "    </tr>\n",
              "    <tr>\n",
              "      <th>65</th>\n",
              "      <td>-0.510195</td>\n",
              "    </tr>\n",
              "    <tr>\n",
              "      <th>2</th>\n",
              "      <td>0.472563</td>\n",
              "    </tr>\n",
              "    <tr>\n",
              "      <th>55</th>\n",
              "      <td>-0.458930</td>\n",
              "    </tr>\n",
              "    <tr>\n",
              "      <th>30</th>\n",
              "      <td>0.417116</td>\n",
              "    </tr>\n",
              "    <tr>\n",
              "      <th>432</th>\n",
              "      <td>-0.404667</td>\n",
              "    </tr>\n",
              "    <tr>\n",
              "      <th>414</th>\n",
              "      <td>0.386518</td>\n",
              "    </tr>\n",
              "    <tr>\n",
              "      <th>369</th>\n",
              "      <td>0.386518</td>\n",
              "    </tr>\n",
              "    <tr>\n",
              "      <th>374</th>\n",
              "      <td>0.386518</td>\n",
              "    </tr>\n",
              "    <tr>\n",
              "      <th>282</th>\n",
              "      <td>0.372855</td>\n",
              "    </tr>\n",
              "    <tr>\n",
              "      <th>290</th>\n",
              "      <td>0.372855</td>\n",
              "    </tr>\n",
              "    <tr>\n",
              "      <th>390</th>\n",
              "      <td>0.372855</td>\n",
              "    </tr>\n",
              "    <tr>\n",
              "      <th>264</th>\n",
              "      <td>0.330905</td>\n",
              "    </tr>\n",
              "    <tr>\n",
              "      <th>44</th>\n",
              "      <td>-0.316912</td>\n",
              "    </tr>\n",
              "    <tr>\n",
              "      <th>53</th>\n",
              "      <td>-0.316912</td>\n",
              "    </tr>\n",
              "    <tr>\n",
              "      <th>39</th>\n",
              "      <td>0.282999</td>\n",
              "    </tr>\n",
              "    <tr>\n",
              "      <th>54</th>\n",
              "      <td>-0.271347</td>\n",
              "    </tr>\n",
              "    <tr>\n",
              "      <th>41</th>\n",
              "      <td>-0.271347</td>\n",
              "    </tr>\n",
              "    <tr>\n",
              "      <th>43</th>\n",
              "      <td>-0.244687</td>\n",
              "    </tr>\n",
              "    <tr>\n",
              "      <th>52</th>\n",
              "      <td>-0.244687</td>\n",
              "    </tr>\n",
              "  </tbody>\n",
              "</table>\n",
              "</div>"
            ],
            "text/plain": [
              "     Coefficient\n",
              "1       3.355929\n",
              "65     -0.510195\n",
              "2       0.472563\n",
              "55     -0.458930\n",
              "30      0.417116\n",
              "432    -0.404667\n",
              "414     0.386518\n",
              "369     0.386518\n",
              "374     0.386518\n",
              "282     0.372855\n",
              "290     0.372855\n",
              "390     0.372855\n",
              "264     0.330905\n",
              "44     -0.316912\n",
              "53     -0.316912\n",
              "39      0.282999\n",
              "54     -0.271347\n",
              "41     -0.271347\n",
              "43     -0.244687\n",
              "52     -0.244687"
            ]
          },
          "execution_count": 111,
          "metadata": {},
          "output_type": "execute_result"
        }
      ],
      "source": [
        "coefficients_of_qrrcv = qrrcv.get_coefficients()\n",
        "\n",
        "\n",
        "coefficients_of_qrrcv = pd.DataFrame({\n",
        "    'Coefficient': coefficients_of_qrrcv\n",
        "}).sort_values(by='Coefficient', key=abs, ascending=False)  # Sorted by absolute value\n",
        "coefficients_of_qrrcv.head(20)"
      ]
    },
    {
      "cell_type": "markdown",
      "metadata": {},
      "source": [
        "## 2.2 Quadratic Model With Lasso Regression\n",
        "---"
      ]
    },
    {
      "cell_type": "markdown",
      "metadata": {},
      "source": [
        "### Fitting"
      ]
    },
    {
      "cell_type": "code",
      "execution_count": 112,
      "metadata": {},
      "outputs": [
        {
          "name": "stdout",
          "output_type": "stream",
          "text": [
            "Best alpha for Quadratic Regression with Ridge Regression:  0.001\n"
          ]
        }
      ],
      "source": [
        "select_features_for_poly_reg = most_correlated_features.head(30).index.drop(['price'])\n",
        "filtered_X_train_by_selected_features_for_poly_reg = X_train[select_features_for_poly_reg]\n",
        "filtered_X_test_by_selected_features_for_poly_reg = X_test[select_features_for_poly_reg]\n",
        "\n",
        "qlassocv = PolynomialLassoRegressionCVModel()\n",
        "qlassocv.fit(filtered_X_train_by_selected_features_for_poly_reg, y_train)\n",
        "print('Best alpha for Quadratic Regression with Ridge Regression: ', qlassocv.get_best_alpha())"
      ]
    },
    {
      "cell_type": "markdown",
      "metadata": {},
      "source": [
        "### Evaluation"
      ]
    },
    {
      "cell_type": "code",
      "execution_count": 113,
      "metadata": {},
      "outputs": [
        {
          "name": "stdout",
          "output_type": "stream",
          "text": [
            "Train:\n",
            "MSE: 3.4232497815251874\n",
            "MAE: 1.2621265726052344\n",
            "R^2: 0.9605999036224298\n",
            "\n",
            "Test:\n",
            "MSE: 3.3842759716566078\n",
            "MAE: 1.2581590329679135\n",
            "R^2: 0.9611807803771404\n"
          ]
        }
      ],
      "source": [
        "qlassocv.evaluate(filtered_X_train_by_selected_features_for_poly_reg, y_train, filtered_X_test_by_selected_features_for_poly_reg, y_test)"
      ]
    },
    {
      "cell_type": "markdown",
      "metadata": {},
      "source": [
        "### Coefficients"
      ]
    },
    {
      "cell_type": "code",
      "execution_count": 114,
      "metadata": {},
      "outputs": [
        {
          "data": {
            "text/html": [
              "<div>\n",
              "<style scoped>\n",
              "    .dataframe tbody tr th:only-of-type {\n",
              "        vertical-align: middle;\n",
              "    }\n",
              "\n",
              "    .dataframe tbody tr th {\n",
              "        vertical-align: top;\n",
              "    }\n",
              "\n",
              "    .dataframe thead th {\n",
              "        text-align: right;\n",
              "    }\n",
              "</style>\n",
              "<table border=\"1\" class=\"dataframe\">\n",
              "  <thead>\n",
              "    <tr style=\"text-align: right;\">\n",
              "      <th></th>\n",
              "      <th>Coefficient</th>\n",
              "    </tr>\n",
              "  </thead>\n",
              "  <tbody>\n",
              "    <tr>\n",
              "      <th>1</th>\n",
              "      <td>3.352590</td>\n",
              "    </tr>\n",
              "    <tr>\n",
              "      <th>369</th>\n",
              "      <td>1.429862</td>\n",
              "    </tr>\n",
              "    <tr>\n",
              "      <th>65</th>\n",
              "      <td>-1.377145</td>\n",
              "    </tr>\n",
              "    <tr>\n",
              "      <th>282</th>\n",
              "      <td>1.335077</td>\n",
              "    </tr>\n",
              "    <tr>\n",
              "      <th>344</th>\n",
              "      <td>-0.769972</td>\n",
              "    </tr>\n",
              "    <tr>\n",
              "      <th>299</th>\n",
              "      <td>-0.660720</td>\n",
              "    </tr>\n",
              "    <tr>\n",
              "      <th>44</th>\n",
              "      <td>-0.627639</td>\n",
              "    </tr>\n",
              "    <tr>\n",
              "      <th>432</th>\n",
              "      <td>-0.562119</td>\n",
              "    </tr>\n",
              "    <tr>\n",
              "      <th>315</th>\n",
              "      <td>-0.561251</td>\n",
              "    </tr>\n",
              "    <tr>\n",
              "      <th>357</th>\n",
              "      <td>0.515755</td>\n",
              "    </tr>\n",
              "    <tr>\n",
              "      <th>41</th>\n",
              "      <td>-0.499018</td>\n",
              "    </tr>\n",
              "    <tr>\n",
              "      <th>330</th>\n",
              "      <td>-0.492290</td>\n",
              "    </tr>\n",
              "    <tr>\n",
              "      <th>43</th>\n",
              "      <td>-0.484059</td>\n",
              "    </tr>\n",
              "    <tr>\n",
              "      <th>55</th>\n",
              "      <td>-0.462309</td>\n",
              "    </tr>\n",
              "    <tr>\n",
              "      <th>264</th>\n",
              "      <td>0.460865</td>\n",
              "    </tr>\n",
              "    <tr>\n",
              "      <th>73</th>\n",
              "      <td>0.435734</td>\n",
              "    </tr>\n",
              "    <tr>\n",
              "      <th>30</th>\n",
              "      <td>0.416192</td>\n",
              "    </tr>\n",
              "    <tr>\n",
              "      <th>45</th>\n",
              "      <td>0.410677</td>\n",
              "    </tr>\n",
              "    <tr>\n",
              "      <th>42</th>\n",
              "      <td>-0.405300</td>\n",
              "    </tr>\n",
              "    <tr>\n",
              "      <th>46</th>\n",
              "      <td>0.355632</td>\n",
              "    </tr>\n",
              "  </tbody>\n",
              "</table>\n",
              "</div>"
            ],
            "text/plain": [
              "     Coefficient\n",
              "1       3.352590\n",
              "369     1.429862\n",
              "65     -1.377145\n",
              "282     1.335077\n",
              "344    -0.769972\n",
              "299    -0.660720\n",
              "44     -0.627639\n",
              "432    -0.562119\n",
              "315    -0.561251\n",
              "357     0.515755\n",
              "41     -0.499018\n",
              "330    -0.492290\n",
              "43     -0.484059\n",
              "55     -0.462309\n",
              "264     0.460865\n",
              "73      0.435734\n",
              "30      0.416192\n",
              "45      0.410677\n",
              "42     -0.405300\n",
              "46      0.355632"
            ]
          },
          "execution_count": 114,
          "metadata": {},
          "output_type": "execute_result"
        }
      ],
      "source": [
        "coefficients_of_qlassocv = qlassocv.get_coefficients()\n",
        "\n",
        "coefficients_of_qlassocv = pd.DataFrame({\n",
        "    'Coefficient': coefficients_of_qlassocv\n",
        "}).sort_values(by='Coefficient', key=abs, ascending=False)  # Sorted by absolute value\n",
        "coefficients_of_qlassocv.head(20)"
      ]
    },
    {
      "cell_type": "markdown",
      "metadata": {},
      "source": [
        "# 3. Model Enhancement\n",
        "---"
      ]
    },
    {
      "cell_type": "markdown",
      "metadata": {},
      "source": [
        "## Dataset Loading\n",
        "---"
      ]
    },
    {
      "cell_type": "code",
      "execution_count": 115,
      "metadata": {},
      "outputs": [],
      "source": [
        "enhanced_df = pd.read_csv('./rideshare_kaggle.csv')"
      ]
    },
    {
      "cell_type": "markdown",
      "metadata": {},
      "source": [
        "## Data Preprocessing\n",
        "---"
      ]
    },
    {
      "cell_type": "markdown",
      "metadata": {},
      "source": [
        "### Data Reduction"
      ]
    },
    {
      "cell_type": "markdown",
      "metadata": {},
      "source": [
        "Removing Irrelavant Features"
      ]
    },
    {
      "cell_type": "code",
      "execution_count": 116,
      "metadata": {},
      "outputs": [],
      "source": [
        "enhanced_df = enhanced_df.drop(columns=['id', 'timestamp', 'timezone', 'datetime', 'visibility.1',\n",
        "        'temperatureMinTime', 'temperatureMax', 'temperatureMaxTime',\n",
        "        'apparentTemperatureMin', 'apparentTemperatureMinTime',\n",
        "        'apparentTemperatureMax', 'apparentTemperatureMaxTime'])"
      ]
    },
    {
      "cell_type": "markdown",
      "metadata": {},
      "source": [
        "### Data Transformation"
      ]
    },
    {
      "cell_type": "code",
      "execution_count": 117,
      "metadata": {},
      "outputs": [],
      "source": [
        "luxury_levels = [\n",
        "    ['Shared', 'UberPool'],       # 0: Lowest luxury (shared rides)\n",
        "    ['Lyft', 'UberX'],            # 1: Standard rides\n",
        "    ['WAV', 'Taxi'],              # 2: Accessible or basic non-app rides\n",
        "    ['Lyft XL', 'UberXL'],        # 3: Larger standard vehicles\n",
        "    ['Lux'],                      # 4: Entry-level luxury\n",
        "    ['Black', 'Lux Black'],       # 5: Premium black car\n",
        "    ['Black SUV', 'Lux Black XL'] # 6: Premium large black car\n",
        "]\n",
        "ordinal_encoding = {}\n",
        "for level, group in enumerate(luxury_levels):\n",
        "    for service in group:\n",
        "        ordinal_encoding[service] = level\n",
        "\n",
        "enhanced_df['name'] = enhanced_df['name'].map(ordinal_encoding)\n",
        "enhanced_df['name'] = enhanced_df['name'].astype(dtype='int')\n",
        "enhanced_df['sunriseTime'] = pd.to_datetime(enhanced_df['sunriseTime'], unit='s').dt.hour\n",
        "enhanced_df['sunsetTime'] = pd.to_datetime(enhanced_df['sunsetTime'], unit='s').dt.hour\n",
        "\n",
        "categorical_cols = enhanced_df.select_dtypes(include=['object']).columns\n",
        "enhanced_df = pd.get_dummies(enhanced_df, columns=categorical_cols, drop_first=True)"
      ]
    },
    {
      "cell_type": "markdown",
      "metadata": {},
      "source": [
        "### Missing Values"
      ]
    },
    {
      "cell_type": "code",
      "execution_count": 118,
      "metadata": {},
      "outputs": [],
      "source": [
        "enhanced_df.dropna(subset=['price'], inplace=True)"
      ]
    },
    {
      "cell_type": "markdown",
      "metadata": {},
      "source": [
        "## Feature Selection\n",
        "---"
      ]
    },
    {
      "cell_type": "code",
      "execution_count": 119,
      "metadata": {},
      "outputs": [],
      "source": [
        "most_correlated_features_enhanced = enhanced_df.corr(method='spearman')['price'].sort_values(ascending=False, key=abs).head(40).index.drop('price')"
      ]
    },
    {
      "cell_type": "markdown",
      "metadata": {},
      "source": [
        "## Train Test Split\n",
        "---"
      ]
    },
    {
      "cell_type": "code",
      "execution_count": 120,
      "metadata": {},
      "outputs": [],
      "source": [
        "X_enhanced, y_enhanced = enhanced_df.drop(columns=['price']), enhanced_df['price']\n",
        "feature_names = X_enhanced.columns\n",
        "X_train_enhanced, X_test_enhanced, y_train_enhanced, y_test_enhanced = train_test_split(X_enhanced, y_enhanced, test_size=0.2, random_state=42)"
      ]
    },
    {
      "cell_type": "markdown",
      "metadata": {},
      "source": [
        "## Training & Evaluation\n",
        "---"
      ]
    },
    {
      "cell_type": "markdown",
      "metadata": {},
      "source": [
        "### Fitting"
      ]
    },
    {
      "cell_type": "code",
      "execution_count": 121,
      "metadata": {},
      "outputs": [
        {
          "name": "stdout",
          "output_type": "stream",
          "text": [
            "Best alpha for Quadratic Regression with Ridge Regression:  50.0\n"
          ]
        }
      ],
      "source": [
        "filtered_X__train_by_selected_features_for_poly_reg = X_train_enhanced[most_correlated_features_enhanced]\n",
        "filtered_X__test_by_selected_features_for_poly_reg = X_test_enhanced[most_correlated_features_enhanced]\n",
        "enhanced_qrrcv = PolynomialRidgeRegressionCVModel(alphas=[1.0, 10.0, 50, 100, 200])\n",
        "enhanced_qrrcv.fit(filtered_X__train_by_selected_features_for_poly_reg, y_train_enhanced)\n",
        "print('Best alpha for Quadratic Regression with Ridge Regression: ', enhanced_qrrcv.get_best_alpha())"
      ]
    },
    {
      "cell_type": "markdown",
      "metadata": {},
      "source": [
        "### Evaluation"
      ]
    },
    {
      "cell_type": "code",
      "execution_count": 122,
      "metadata": {},
      "outputs": [
        {
          "name": "stdout",
          "output_type": "stream",
          "text": [
            "Train:\n",
            "MSE: 3.089021570631983\n",
            "MAE: 1.179332590145783\n",
            "R^2: 0.9644467230372339\n",
            "\n",
            "Test:\n",
            "MSE: 3.048295312152019\n",
            "MAE: 1.175129588590886\n",
            "R^2: 0.9650346348262376\n"
          ]
        }
      ],
      "source": [
        "enhanced_qrrcv.evaluate(filtered_X__train_by_selected_features_for_poly_reg, y_train_enhanced, filtered_X__test_by_selected_features_for_poly_reg, y_test_enhanced)"
      ]
    },
    {
      "cell_type": "markdown",
      "metadata": {},
      "source": [
        "### Coefficients"
      ]
    },
    {
      "cell_type": "code",
      "execution_count": 123,
      "metadata": {},
      "outputs": [
        {
          "data": {
            "text/html": [
              "<div>\n",
              "<style scoped>\n",
              "    .dataframe tbody tr th:only-of-type {\n",
              "        vertical-align: middle;\n",
              "    }\n",
              "\n",
              "    .dataframe tbody tr th {\n",
              "        vertical-align: top;\n",
              "    }\n",
              "\n",
              "    .dataframe thead th {\n",
              "        text-align: right;\n",
              "    }\n",
              "</style>\n",
              "<table border=\"1\" class=\"dataframe\">\n",
              "  <thead>\n",
              "    <tr style=\"text-align: right;\">\n",
              "      <th></th>\n",
              "      <th>Coefficient</th>\n",
              "    </tr>\n",
              "  </thead>\n",
              "  <tbody>\n",
              "    <tr>\n",
              "      <th>5</th>\n",
              "      <td>2.758523</td>\n",
              "    </tr>\n",
              "    <tr>\n",
              "      <th>117</th>\n",
              "      <td>1.123527</td>\n",
              "    </tr>\n",
              "    <tr>\n",
              "      <th>154</th>\n",
              "      <td>1.104438</td>\n",
              "    </tr>\n",
              "    <tr>\n",
              "      <th>1</th>\n",
              "      <td>0.795073</td>\n",
              "    </tr>\n",
              "    <tr>\n",
              "      <th>44</th>\n",
              "      <td>0.775959</td>\n",
              "    </tr>\n",
              "    <tr>\n",
              "      <th>259</th>\n",
              "      <td>0.651170</td>\n",
              "    </tr>\n",
              "    <tr>\n",
              "      <th>355</th>\n",
              "      <td>0.568151</td>\n",
              "    </tr>\n",
              "    <tr>\n",
              "      <th>11</th>\n",
              "      <td>0.464009</td>\n",
              "    </tr>\n",
              "    <tr>\n",
              "      <th>166</th>\n",
              "      <td>0.457612</td>\n",
              "    </tr>\n",
              "    <tr>\n",
              "      <th>125</th>\n",
              "      <td>0.457186</td>\n",
              "    </tr>\n",
              "    <tr>\n",
              "      <th>390</th>\n",
              "      <td>-0.431893</td>\n",
              "    </tr>\n",
              "    <tr>\n",
              "      <th>218</th>\n",
              "      <td>-0.416808</td>\n",
              "    </tr>\n",
              "    <tr>\n",
              "      <th>192</th>\n",
              "      <td>0.379788</td>\n",
              "    </tr>\n",
              "    <tr>\n",
              "      <th>4</th>\n",
              "      <td>0.375303</td>\n",
              "    </tr>\n",
              "    <tr>\n",
              "      <th>79</th>\n",
              "      <td>-0.372414</td>\n",
              "    </tr>\n",
              "    <tr>\n",
              "      <th>196</th>\n",
              "      <td>0.369119</td>\n",
              "    </tr>\n",
              "    <tr>\n",
              "      <th>3</th>\n",
              "      <td>0.364137</td>\n",
              "    </tr>\n",
              "    <tr>\n",
              "      <th>224</th>\n",
              "      <td>-0.351539</td>\n",
              "    </tr>\n",
              "    <tr>\n",
              "      <th>414</th>\n",
              "      <td>0.349549</td>\n",
              "    </tr>\n",
              "    <tr>\n",
              "      <th>195</th>\n",
              "      <td>0.334296</td>\n",
              "    </tr>\n",
              "  </tbody>\n",
              "</table>\n",
              "</div>"
            ],
            "text/plain": [
              "     Coefficient\n",
              "5       2.758523\n",
              "117     1.123527\n",
              "154     1.104438\n",
              "1       0.795073\n",
              "44      0.775959\n",
              "259     0.651170\n",
              "355     0.568151\n",
              "11      0.464009\n",
              "166     0.457612\n",
              "125     0.457186\n",
              "390    -0.431893\n",
              "218    -0.416808\n",
              "192     0.379788\n",
              "4       0.375303\n",
              "79     -0.372414\n",
              "196     0.369119\n",
              "3       0.364137\n",
              "224    -0.351539\n",
              "414     0.349549\n",
              "195     0.334296"
            ]
          },
          "execution_count": 123,
          "metadata": {},
          "output_type": "execute_result"
        }
      ],
      "source": [
        "coefficients_of_enhanced_qrrcv_ = enhanced_qrrcv.get_coefficients()\n",
        "coefficients_of_enhanced_qrrcv_ = pd.DataFrame({\n",
        "    'Coefficient': coefficients_of_enhanced_qrrcv_\n",
        "}).sort_values(by='Coefficient', key=abs, ascending=False)  # Sorted by absolute value\n",
        "coefficients_of_enhanced_qrrcv_.head(20)"
      ]
    },
    {
      "cell_type": "markdown",
      "metadata": {},
      "source": [
        "### Residual Plot"
      ]
    },
    {
      "cell_type": "code",
      "execution_count": 124,
      "metadata": {},
      "outputs": [
        {
          "data": {
            "image/png": "[encoded data removed]",
            "text/plain": [
              "<Figure size 800x500 with 1 Axes>"
            ]
          },
          "metadata": {},
          "output_type": "display_data"
        }
      ],
      "source": [
        "residuals_of_enhanced_qrrcv = y_test_enhanced - enhanced_qrrcv.predict(filtered_X__test_by_selected_features_for_poly_reg)\n",
        "plt.figure(figsize=(8, 5))\n",
        "sns.scatterplot(x=y_test_enhanced, y=residuals_of_enhanced_qrrcv, alpha=0.8)\n",
        "plt.axhline(0, color='blue', linestyle='--')\n",
        "plt.xlabel('Actual Price')\n",
        "plt.ylabel('Residual (Actual - Predicted)')\n",
        "plt.title('Residual Plot')\n",
        "output_path = './images/residual_of_enhanced'\n",
        "plt.savefig(output_path)\n",
        "plt.show()"
      ]
    }
  ],
  "metadata": {
    "colab": {
      "provenance": []
    },
    "kaggle": {
      "accelerator": "none",
      "dataSources": [
        {
          "datasetId": 370703,
          "sourceId": 736188,
          "sourceType": "datasetVersion"
        }
      ],
      "isGpuEnabled": false,
      "isInternetEnabled": false,
      "language": "python",
      "sourceType": "notebook"
    },
    "kernelspec": {
      "display_name": "env_for_ai",
      "language": "python",
      "name": "python3"
    },
    "language_info": {
      "codemirror_mode": {
        "name": "ipython",
        "version": 3
      },
      "file_extension": ".py",
      "mimetype": "text/x-python",
      "name": "python",
      "nbconvert_exporter": "python",
      "pygments_lexer": "ipython3",
      "version": "3.12.3"
    }
  },
  "nbformat": 4,
  "nbformat_minor": 0
}
